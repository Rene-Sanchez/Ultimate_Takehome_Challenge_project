{
 "cells": [
  {
   "cell_type": "code",
   "execution_count": 1,
   "metadata": {
    "collapsed": true
   },
   "outputs": [],
   "source": [
    "import pandas as pd\n",
    "import json\n",
    "from datetime import datetime,timedelta\n",
    "from sklearn.model_selection import GridSearchCV,train_test_split\n",
    "from sklearn.ensemble import RandomForestClassifier,GradientBoostingClassifier\n",
    "from sklearn.preprocessing import StandardScaler\n",
    "from sklearn.metrics import classification_report, confusion_matrix\n",
    "from sklearn.linear_model import LogisticRegression\n",
    "\n",
    "\n",
    "with open('data_challenge.json') as f:\n",
    "    data = json.load(f)"
   ]
  },
  {
   "cell_type": "code",
   "execution_count": 2,
   "metadata": {},
   "outputs": [
    {
     "name": "stdout",
     "output_type": "stream",
     "text": [
      "<class 'pandas.core.frame.DataFrame'>\n",
      "RangeIndex: 50000 entries, 0 to 49999\n",
      "Data columns (total 12 columns):\n",
      "avg_dist                  50000 non-null float64\n",
      "avg_rating_by_driver      49799 non-null float64\n",
      "avg_rating_of_driver      41878 non-null float64\n",
      "avg_surge                 50000 non-null float64\n",
      "city                      50000 non-null object\n",
      "last_trip_date            50000 non-null object\n",
      "phone                     49604 non-null object\n",
      "signup_date               50000 non-null object\n",
      "surge_pct                 50000 non-null float64\n",
      "trips_in_first_30_days    50000 non-null int64\n",
      "ultimate_black_user       50000 non-null bool\n",
      "weekday_pct               50000 non-null float64\n",
      "dtypes: bool(1), float64(6), int64(1), object(4)\n",
      "memory usage: 4.2+ MB\n",
      "<class 'pandas.core.frame.DataFrame'>\n",
      "Int64Index: 41445 entries, 0 to 49998\n",
      "Data columns (total 12 columns):\n",
      "avg_dist                  41445 non-null float64\n",
      "avg_rating_by_driver      41445 non-null float64\n",
      "avg_rating_of_driver      41445 non-null float64\n",
      "avg_surge                 41445 non-null float64\n",
      "city                      41445 non-null object\n",
      "last_trip_date            41445 non-null object\n",
      "phone                     41445 non-null object\n",
      "signup_date               41445 non-null object\n",
      "surge_pct                 41445 non-null float64\n",
      "trips_in_first_30_days    41445 non-null int64\n",
      "ultimate_black_user       41445 non-null bool\n",
      "weekday_pct               41445 non-null float64\n",
      "dtypes: bool(1), float64(6), int64(1), object(4)\n",
      "memory usage: 3.8+ MB\n"
     ]
    }
   ],
   "source": [
    "data = pd.DataFrame(data)\n",
    "data.info()\n",
    "\n",
    "df,missing_rating_of= (data.drop(data[data.avg_rating_of_driver.isnull()].index),\n",
    "                       data[data.avg_rating_of_driver.isnull()])\n",
    "\n",
    "df,missing_rating_by= (df.drop(df[df.avg_rating_by_driver.isnull()].index),\n",
    "                       df[df.avg_rating_by_driver.isnull()])\n",
    "\n",
    "df,missing_phone= (df.drop(df[df.phone.isnull()].index),\n",
    "                       df[df.phone.isnull()])\n",
    "df.info()"
   ]
  },
  {
   "cell_type": "code",
   "execution_count": 3,
   "metadata": {
    "collapsed": true
   },
   "outputs": [],
   "source": [
    "frame = timedelta(days=30)\n",
    "start = datetime.strptime(df.last_trip_date.max(),'%Y-%m-%d') - frame\n",
    "act = []\n",
    "for i in df.last_trip_date:\n",
    "    inst = datetime.strptime(i,'%Y-%m-%d')\n",
    "    if inst > start:\n",
    "        act.append(1)\n",
    "    else:\n",
    "        act.append(0)\n",
    "\n",
    "df['phone'] = df['phone'].apply(lambda x: 1 if x=='Android' else 0)\n",
    "df['ultimate_black_user'] = df['ultimate_black_user'].apply(\n",
    "        lambda x: 1 if x==True else 0)"
   ]
  },
  {
   "cell_type": "code",
   "execution_count": 4,
   "metadata": {
    "collapsed": true
   },
   "outputs": [],
   "source": [
    "city_dummy = pd.get_dummies(df['city'],drop_first=True)\n",
    "\n",
    "model_data = df.drop(['last_trip_date','signup_date','city'],axis=1)\n",
    "model_data = pd.concat([model_data,city_dummy],axis=1)\n",
    "model_data[\"Active\"] = act"
   ]
  },
  {
   "cell_type": "code",
   "execution_count": 13,
   "metadata": {},
   "outputs": [
    {
     "name": "stdout",
     "output_type": "stream",
     "text": [
      "missing_rating_of_driver Percent inactive:% 80.69441024378233\n",
      "missing_rating_by_driver Percent inactive:% 89.55223880597015\n",
      "missing_ratings_both Percent inactive:% 70.1492537313433\n"
     ]
    }
   ],
   "source": [
    "pd.options.mode.chained_assignment=None \n",
    "\n",
    "of_act = []\n",
    "for i in missing_rating_of.last_trip_date:\n",
    "    inst = datetime.strptime(i,'%Y-%m-%d')\n",
    "    if inst > start:\n",
    "        of_act.append(1)\n",
    "    else:\n",
    "        of_act.append(0)\n",
    "missing_rating_of['Active'] = of_act\n",
    "\n",
    "\n",
    "by_act = []\n",
    "for i in missing_rating_by.last_trip_date:\n",
    "    inst = datetime.strptime(i,'%Y-%m-%d')\n",
    "    if inst > start:\n",
    "        by_act.append(1)\n",
    "    else:\n",
    "        by_act.append(0)\n",
    "missing_rating_by['Active'] = by_act\n",
    "\n",
    "\n",
    "missing_ratings = missing_rating_of[missing_rating_of['avg_rating_by_driver'].isnull() ==True]\n",
    "\n",
    "miss_act = []\n",
    "for i in missing_ratings.last_trip_date:\n",
    "    inst = datetime.strptime(i,'%Y-%m-%d')\n",
    "    if inst > start:\n",
    "        miss_act.append(1)\n",
    "    else:\n",
    "        miss_act.append(0)\n",
    "missing_ratings['Active'] = miss_act\n",
    "\n",
    "print('missing_rating_of_driver Percent inactive:%',\n",
    "      (1-(missing_rating_of.Active.sum() / len(missing_rating_of)))*100)\n",
    "print('missing_rating_by_driver Percent inactive:%',\n",
    "      (1-(missing_rating_by.Active.sum() / len(missing_rating_by)))*100)\n",
    "print('missing_ratings_both Percent inactive:%',\n",
    "      (1-(missing_ratings.Active.sum() / len(missing_ratings)))*100)"
   ]
  },
  {
   "cell_type": "code",
   "execution_count": 8,
   "metadata": {
    "collapsed": true
   },
   "outputs": [],
   "source": [
    "def split_process(a,b):\n",
    "#split data into training and test set\n",
    "    X_train,X_test,Y_train,Y_test = train_test_split(a, b, test_size = 0.25,random_state=42)\n",
    "    scaler_X = StandardScaler()\n",
    "    X_train = scaler_X.fit_transform(X_train)\n",
    "    X_test = scaler_X.transform(X_test)    \n",
    "    return X_train,X_test,Y_train,Y_test\n",
    "\n",
    "xtr,xte,ytr,yte = split_process(model_data.iloc[:,:-1],model_data['Active'])"
   ]
  },
  {
   "cell_type": "code",
   "execution_count": 9,
   "metadata": {},
   "outputs": [
    {
     "name": "stdout",
     "output_type": "stream",
     "text": [
      "{'learning_rate': 0.2, 'max_depth': 4, 'n_estimators': 165} 0.788051346395\n"
     ]
    }
   ],
   "source": [
    "graboost = GradientBoostingClassifier(max_features='sqrt')\n",
    "parametergra = {'n_estimators':[155,165,160],'learning_rate':[.3,.2],\n",
    "              'max_depth':[3,4]}\n",
    "grid1 = GridSearchCV(estimator=graboost,param_grid=parametergra,\n",
    "                     scoring='accuracy',cv=5)\n",
    "grid1.fit(xtr,ytr)\n",
    "best_para_gra = grid1.best_params_\n",
    "best_acc_gra = grid1.best_score_\n",
    "\n",
    "print(best_para_gra,best_acc_gra)\n"
   ]
  },
  {
   "cell_type": "code",
   "execution_count": 10,
   "metadata": {},
   "outputs": [
    {
     "name": "stdout",
     "output_type": "stream",
     "text": [
      "             precision    recall  f1-score   support\n",
      "\n",
      "          0       0.81      0.85      0.83      6186\n",
      "          1       0.76      0.70      0.73      4176\n",
      "\n",
      "avg / total       0.79      0.79      0.79     10362\n",
      "\n",
      "[[5258  928]\n",
      " [1259 2917]]\n",
      "Gradient Boosted Tress Accuracy = 0.788940359004\n"
     ]
    },
    {
     "data": {
      "text/html": [
       "<div>\n",
       "<style>\n",
       "    .dataframe thead tr:only-child th {\n",
       "        text-align: right;\n",
       "    }\n",
       "\n",
       "    .dataframe thead th {\n",
       "        text-align: left;\n",
       "    }\n",
       "\n",
       "    .dataframe tbody tr th {\n",
       "        vertical-align: top;\n",
       "    }\n",
       "</style>\n",
       "<table border=\"1\" class=\"dataframe\">\n",
       "  <thead>\n",
       "    <tr style=\"text-align: right;\">\n",
       "      <th></th>\n",
       "      <th>avg_dist</th>\n",
       "      <th>avg_rating_by_driver</th>\n",
       "      <th>avg_rating_of_driver</th>\n",
       "      <th>avg_surge</th>\n",
       "      <th>phone</th>\n",
       "      <th>surge_pct</th>\n",
       "      <th>trips_in_first_30_days</th>\n",
       "      <th>ultimate_black_user</th>\n",
       "      <th>weekday_pct</th>\n",
       "      <th>King's Landing</th>\n",
       "      <th>Winterfell</th>\n",
       "    </tr>\n",
       "  </thead>\n",
       "  <tbody>\n",
       "    <tr>\n",
       "      <th>GBM</th>\n",
       "      <td>0.160731</td>\n",
       "      <td>0.102242</td>\n",
       "      <td>0.080368</td>\n",
       "      <td>0.09682</td>\n",
       "      <td>0.029125</td>\n",
       "      <td>0.122108</td>\n",
       "      <td>0.141955</td>\n",
       "      <td>0.026056</td>\n",
       "      <td>0.172688</td>\n",
       "      <td>0.043875</td>\n",
       "      <td>0.024035</td>\n",
       "    </tr>\n",
       "  </tbody>\n",
       "</table>\n",
       "</div>"
      ],
      "text/plain": [
       "     avg_dist  avg_rating_by_driver  avg_rating_of_driver  avg_surge  \\\n",
       "GBM  0.160731              0.102242              0.080368    0.09682   \n",
       "\n",
       "        phone  surge_pct  trips_in_first_30_days  ultimate_black_user  \\\n",
       "GBM  0.029125   0.122108                0.141955             0.026056   \n",
       "\n",
       "     weekday_pct  King's Landing  Winterfell  \n",
       "GBM     0.172688        0.043875    0.024035  "
      ]
     },
     "execution_count": 10,
     "metadata": {},
     "output_type": "execute_result"
    }
   ],
   "source": [
    "gbm = GradientBoostingClassifier(max_features='sqrt',\n",
    "                                 n_estimators=165,learning_rate=.2,max_depth= 4)\n",
    "gbm.fit(xtr,ytr)\n",
    "\n",
    "ypredgra = gbm.predict(xte)\n",
    "print(classification_report(yte,ypredgra))\n",
    "boost_result =confusion_matrix(yte,ypredgra)\n",
    "print(boost_result)\n",
    "boo_acc = (boost_result[1][1]+boost_result[0][0])/boost_result.sum()\n",
    "print(\"Gradient Boosted Tress Accuracy =\",boo_acc)\n",
    "\n",
    "feature_coef = pd.DataFrame(gbm.feature_importances_).transpose()\n",
    "feature_coef.columns = list(model_data.columns[:-1])\n",
    "feature_coef.index = ['GBM'] \n",
    "feature_coef"
   ]
  },
  {
   "cell_type": "code",
   "execution_count": 11,
   "metadata": {},
   "outputs": [
    {
     "name": "stdout",
     "output_type": "stream",
     "text": [
      "{'C': 4, 'solver': 'sag', 'tol': 0.3} 0.711578676447\n"
     ]
    }
   ],
   "source": [
    "logreg = LogisticRegression()\n",
    "parametervec = {'C':[4.3,5,4],'solver':['sag','liblinear'],'tol':[.2,2.5,.3]}\n",
    "grid2 = GridSearchCV(estimator=logreg,param_grid=parametervec,\n",
    "                     scoring='accuracy',cv=5)\n",
    "grid2.fit(xtr,ytr)\n",
    "best_para_vec = grid2.best_params_\n",
    "best_acc_vec = grid2.best_score_\n",
    "\n",
    "print(best_para_vec,best_acc_vec)"
   ]
  },
  {
   "cell_type": "code",
   "execution_count": 12,
   "metadata": {},
   "outputs": [
    {
     "name": "stdout",
     "output_type": "stream",
     "text": [
      "             precision    recall  f1-score   support\n",
      "\n",
      "          0       0.74      0.82      0.77      6186\n",
      "          1       0.68      0.56      0.61      4176\n",
      "\n",
      "avg / total       0.71      0.71      0.71     10362\n",
      "\n",
      "[[5054 1132]\n",
      " [1822 2354]]\n",
      "Logistic Regression Accuracy = 0.714919899633\n"
     ]
    },
    {
     "data": {
      "text/html": [
       "<div>\n",
       "<style>\n",
       "    .dataframe thead tr:only-child th {\n",
       "        text-align: right;\n",
       "    }\n",
       "\n",
       "    .dataframe thead th {\n",
       "        text-align: left;\n",
       "    }\n",
       "\n",
       "    .dataframe tbody tr th {\n",
       "        vertical-align: top;\n",
       "    }\n",
       "</style>\n",
       "<table border=\"1\" class=\"dataframe\">\n",
       "  <thead>\n",
       "    <tr style=\"text-align: right;\">\n",
       "      <th></th>\n",
       "      <th>avg_dist</th>\n",
       "      <th>avg_rating_by_driver</th>\n",
       "      <th>avg_rating_of_driver</th>\n",
       "      <th>avg_surge</th>\n",
       "      <th>phone</th>\n",
       "      <th>surge_pct</th>\n",
       "      <th>trips_in_first_30_days</th>\n",
       "      <th>ultimate_black_user</th>\n",
       "      <th>weekday_pct</th>\n",
       "      <th>King's Landing</th>\n",
       "      <th>Winterfell</th>\n",
       "    </tr>\n",
       "  </thead>\n",
       "  <tbody>\n",
       "    <tr>\n",
       "      <th>GBM</th>\n",
       "      <td>0.160731</td>\n",
       "      <td>0.102242</td>\n",
       "      <td>0.080368</td>\n",
       "      <td>0.096820</td>\n",
       "      <td>0.029125</td>\n",
       "      <td>0.122108</td>\n",
       "      <td>0.141955</td>\n",
       "      <td>0.026056</td>\n",
       "      <td>0.172688</td>\n",
       "      <td>0.043875</td>\n",
       "      <td>0.024035</td>\n",
       "    </tr>\n",
       "    <tr>\n",
       "      <th>Logistic Reg</th>\n",
       "      <td>-0.199073</td>\n",
       "      <td>-0.063966</td>\n",
       "      <td>0.000187</td>\n",
       "      <td>0.005912</td>\n",
       "      <td>-0.495931</td>\n",
       "      <td>0.093839</td>\n",
       "      <td>0.462612</td>\n",
       "      <td>0.501972</td>\n",
       "      <td>-0.006334</td>\n",
       "      <td>0.774380</td>\n",
       "      <td>0.349932</td>\n",
       "    </tr>\n",
       "  </tbody>\n",
       "</table>\n",
       "</div>"
      ],
      "text/plain": [
       "              avg_dist  avg_rating_by_driver  avg_rating_of_driver  avg_surge  \\\n",
       "GBM           0.160731              0.102242              0.080368   0.096820   \n",
       "Logistic Reg -0.199073             -0.063966              0.000187   0.005912   \n",
       "\n",
       "                 phone  surge_pct  trips_in_first_30_days  \\\n",
       "GBM           0.029125   0.122108                0.141955   \n",
       "Logistic Reg -0.495931   0.093839                0.462612   \n",
       "\n",
       "              ultimate_black_user  weekday_pct  King's Landing  Winterfell  \n",
       "GBM                      0.026056     0.172688        0.043875    0.024035  \n",
       "Logistic Reg             0.501972    -0.006334        0.774380    0.349932  "
      ]
     },
     "execution_count": 12,
     "metadata": {},
     "output_type": "execute_result"
    }
   ],
   "source": [
    "reg = LogisticRegression(C=4,tol=.3,solver='sag')\n",
    "reg.fit(xtr,ytr)\n",
    "\n",
    "ypredreg = reg.predict(xte)\n",
    "print(classification_report(yte,ypredreg))\n",
    "reg_result =confusion_matrix(yte,ypredreg)\n",
    "print(reg_result)\n",
    "reg_acc = (reg_result[1][1]+reg_result[0][0])/reg_result.sum()\n",
    "print(\"Logistic Regression Accuracy =\",reg_acc)\n",
    "feature_coef1 = pd.DataFrame(reg.coef_,index=['Logistic Reg'])\n",
    "feature_coef1.columns = list(model_data.columns[:-1])\n",
    "feature_coef= pd.concat([feature_coef,feature_coef1])\n",
    "feature_coef"
   ]
  }
 ],
 "metadata": {
  "kernelspec": {
   "display_name": "Python 3",
   "language": "python",
   "name": "python3"
  },
  "language_info": {
   "codemirror_mode": {
    "name": "ipython",
    "version": 3
   },
   "file_extension": ".py",
   "mimetype": "text/x-python",
   "name": "python",
   "nbconvert_exporter": "python",
   "pygments_lexer": "ipython3",
   "version": "3.6.1"
  }
 },
 "nbformat": 4,
 "nbformat_minor": 2
}
